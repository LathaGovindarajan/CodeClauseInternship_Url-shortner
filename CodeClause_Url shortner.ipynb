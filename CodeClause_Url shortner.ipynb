{
 "cells": [
  {
   "cell_type": "code",
   "execution_count": null,
   "id": "52f8e292",
   "metadata": {},
   "outputs": [],
   "source": [
    "pip install pyshorteners"
   ]
  },
  {
   "cell_type": "code",
   "execution_count": null,
   "id": "e8de8f71",
   "metadata": {},
   "outputs": [],
   "source": [
    "pip install pyperclip"
   ]
  },
  {
   "cell_type": "code",
   "execution_count": null,
   "id": "00fd3dca",
   "metadata": {},
   "outputs": [],
   "source": [
    "#importing libraries\n",
    "import tkinter\n",
    "import pyshorteners"
   ]
  },
  {
   "cell_type": "code",
   "execution_count": null,
   "id": "bac594fe",
   "metadata": {},
   "outputs": [],
   "source": [
    "#creating def for shortner\n",
    "def shorten():\n",
    "    shortener = pyshorteners.Shortener()\n",
    "    short_url = shortener.tinyurl.short(longurl_entry.get())\n",
    "    print(shorturl_entry.insert(0, short_url))"
   ]
  },
  {
   "cell_type": "code",
   "execution_count": null,
   "id": "6a937341",
   "metadata": {},
   "outputs": [],
   "source": [
    "#creating root window\n",
    "root = tkinter.Tk()\n",
    "root.title(\"URL Shortener by LATHA\")\n",
    "root.geometry(\"300x150\")"
   ]
  },
  {
   "cell_type": "code",
   "execution_count": null,
   "id": "fd80a80b",
   "metadata": {},
   "outputs": [],
   "source": [
    "#adding widgets\n",
    "longurl_label = tkinter.Label(root, text=\"Enter Long URL\")\n",
    "longurl_entry = tkinter.Entry(root)\n",
    "shorturl_label=tkinter.Label(root, text=\"Output shortened URL\") \n",
    "shorturl_entry = tkinter.Entry(root)\n",
    "shorten_button = tkinter.Button(root, text=\"Shorten URL\", command=shorten)"
   ]
  },
  {
   "cell_type": "code",
   "execution_count": null,
   "id": "45bb8db7",
   "metadata": {},
   "outputs": [],
   "source": [
    "#organising widgets\n",
    "longurl_label.pack()\n",
    "longurl_entry.pack()\n",
    "shorturl_label.pack()\n",
    "shorturl_entry.pack()\n",
    "shorten_button.pack()"
   ]
  },
  {
   "cell_type": "code",
   "execution_count": null,
   "id": "111b3a92",
   "metadata": {},
   "outputs": [],
   "source": [
    "#executing application\n",
    "root.mainloop()"
   ]
  },
  {
   "cell_type": "code",
   "execution_count": null,
   "id": "27fe7019",
   "metadata": {},
   "outputs": [],
   "source": []
  }
 ],
 "metadata": {
  "kernelspec": {
   "display_name": "Python 3 (ipykernel)",
   "language": "python",
   "name": "python3"
  },
  "language_info": {
   "codemirror_mode": {
    "name": "ipython",
    "version": 3
   },
   "file_extension": ".py",
   "mimetype": "text/x-python",
   "name": "python",
   "nbconvert_exporter": "python",
   "pygments_lexer": "ipython3",
   "version": "3.9.13"
  }
 },
 "nbformat": 4,
 "nbformat_minor": 5
}
